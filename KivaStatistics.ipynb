{
 "cells": [
  {
   "cell_type": "code",
   "execution_count": 1,
   "metadata": {},
   "outputs": [],
   "source": [
    "loan_amount = [1250.0, 500.0, 1450.0, 200.0, 700.0, 100.0, 250.0, 225.0, 1200.0, 150.0, 600.0, 300.0, 700.0, 125.0, 650.0, 175.0, 1800.0, 1525.0, 575.0, 700.0, 1450.0, 400.0, 200.0, 1000.0, 350.0]\n",
    "country_name = ['Azerbaijan', 'El Salvador', 'Bolivia', 'Paraguay', 'El Salvador', 'Philippines', 'Philippines', 'Nicaragua', 'Guatemala', 'Philippines', 'Paraguay', 'Philippines', 'Bolivia', 'Philippines', 'Philippines', 'Madagascar', 'Georgia', 'Uganda', 'Kenya', 'Tajikistan', 'Jordan', 'Kenya', 'Philippines', 'Ecuador', 'Kenya']\n",
    "time_to_raise = [193075.0, 1157108.0, 1552939.0, 244945.0, 238797.0, 1248909.0, 773599.0, 116181.0, 2288095.0, 51668.0, 26717.0, 48030.0, 1839190.0, 71117.0, 580401.0, 800427.0, 1156218.0, 1166045.0, 2924705.0, 470622.0, 24078.0, 260044.0, 445938.0, 201408.0, 2370450.0]\n",
    "num_lenders_total = [38, 18, 51, 3, 21, 1, 10, 8, 42, 1, 18, 6, 28, 5, 16, 7, 54, 1, 18, 22, 36, 12, 8, 24, 8]"
   ]
  },
  {
   "cell_type": "code",
   "execution_count": 3,
   "metadata": {},
   "outputs": [],
   "source": [
    "import pandas as pd\n",
    "\n",
    "data = {'LoanAmount': loan_amount, 'CountryName': country_name, 'TimeToRaise': time_to_raise, 'NumLendersTotal':num_lenders_total}\n",
    "df = pd.DataFrame(data)"
   ]
  },
  {
   "cell_type": "code",
   "execution_count": 6,
   "metadata": {},
   "outputs": [
    {
     "data": {
      "text/html": [
       "<div>\n",
       "<style scoped>\n",
       "    .dataframe tbody tr th:only-of-type {\n",
       "        vertical-align: middle;\n",
       "    }\n",
       "\n",
       "    .dataframe tbody tr th {\n",
       "        vertical-align: top;\n",
       "    }\n",
       "\n",
       "    .dataframe thead th {\n",
       "        text-align: right;\n",
       "    }\n",
       "</style>\n",
       "<table border=\"1\" class=\"dataframe\">\n",
       "  <thead>\n",
       "    <tr style=\"text-align: right;\">\n",
       "      <th></th>\n",
       "      <th>LoanAmount</th>\n",
       "      <th>CountryName</th>\n",
       "      <th>TimeToRaise</th>\n",
       "      <th>NumLendersTotal</th>\n",
       "    </tr>\n",
       "  </thead>\n",
       "  <tbody>\n",
       "    <tr>\n",
       "      <th>0</th>\n",
       "      <td>1250.0</td>\n",
       "      <td>Azerbaijan</td>\n",
       "      <td>193075.0</td>\n",
       "      <td>38</td>\n",
       "    </tr>\n",
       "    <tr>\n",
       "      <th>1</th>\n",
       "      <td>500.0</td>\n",
       "      <td>El Salvador</td>\n",
       "      <td>1157108.0</td>\n",
       "      <td>18</td>\n",
       "    </tr>\n",
       "    <tr>\n",
       "      <th>2</th>\n",
       "      <td>1450.0</td>\n",
       "      <td>Bolivia</td>\n",
       "      <td>1552939.0</td>\n",
       "      <td>51</td>\n",
       "    </tr>\n",
       "    <tr>\n",
       "      <th>3</th>\n",
       "      <td>200.0</td>\n",
       "      <td>Paraguay</td>\n",
       "      <td>244945.0</td>\n",
       "      <td>3</td>\n",
       "    </tr>\n",
       "    <tr>\n",
       "      <th>4</th>\n",
       "      <td>700.0</td>\n",
       "      <td>El Salvador</td>\n",
       "      <td>238797.0</td>\n",
       "      <td>21</td>\n",
       "    </tr>\n",
       "  </tbody>\n",
       "</table>\n",
       "</div>"
      ],
      "text/plain": [
       "   LoanAmount  CountryName  TimeToRaise  NumLendersTotal\n",
       "0      1250.0   Azerbaijan     193075.0               38\n",
       "1       500.0  El Salvador    1157108.0               18\n",
       "2      1450.0      Bolivia    1552939.0               51\n",
       "3       200.0     Paraguay     244945.0                3\n",
       "4       700.0  El Salvador     238797.0               21"
      ]
     },
     "execution_count": 6,
     "metadata": {},
     "output_type": "execute_result"
    }
   ],
   "source": [
    "df.head()"
   ]
  },
  {
   "cell_type": "code",
   "execution_count": 8,
   "metadata": {},
   "outputs": [
    {
     "data": {
      "text/plain": [
       "16575.0"
      ]
     },
     "execution_count": 8,
     "metadata": {},
     "output_type": "execute_result"
    }
   ],
   "source": [
    "# What is the total amount of money loaned?\n",
    "\n",
    "TotalLoan = df.LoanAmount.sum()\n",
    "TotalLoan"
   ]
  },
  {
   "cell_type": "code",
   "execution_count": 9,
   "metadata": {},
   "outputs": [
    {
     "data": {
      "text/plain": [
       "663.0"
      ]
     },
     "execution_count": 9,
     "metadata": {},
     "output_type": "execute_result"
    }
   ],
   "source": [
    "# What is the average loan amount?\n",
    "\n",
    "AvgLoan = df.LoanAmount.mean()\n",
    "AvgLoan"
   ]
  },
  {
   "cell_type": "code",
   "execution_count": 12,
   "metadata": {},
   "outputs": [
    {
     "name": "stdout",
     "output_type": "stream",
     "text": [
      "Max: 1800.0, Min: 100.0\n"
     ]
    }
   ],
   "source": [
    "# What is the largest/smallest loan?\n",
    "\n",
    "MaxLoan = df.LoanAmount.max()\n",
    "MinLoan = df.LoanAmount.min()\n",
    "\n",
    "print(f'Max: {MaxLoan}, Min: {MinLoan}')"
   ]
  },
  {
   "cell_type": "code",
   "execution_count": 16,
   "metadata": {},
   "outputs": [
    {
     "name": "stdout",
     "output_type": "stream",
     "text": [
      "Largest\n",
      "-------------\n",
      "16    Georgia\n",
      "Name: CountryName, dtype: object\n",
      "\n",
      "Smallest\n",
      "-------------\n",
      "5    Philippines\n",
      "Name: CountryName, dtype: object\n"
     ]
    }
   ],
   "source": [
    "# What country got the largest/smallest loan?\n",
    "\n",
    "Largest = df[df['LoanAmount'] == MaxLoan]['CountryName']\n",
    "Smallest = df[df['LoanAmount'] == MinLoan]['CountryName']\n",
    "print('Largest')\n",
    "print('-------------')\n",
    "print(Largest)\n",
    "print('')\n",
    "print('Smallest')\n",
    "print('-------------')\n",
    "print(Smallest)"
   ]
  },
  {
   "cell_type": "code",
   "execution_count": 21,
   "metadata": {},
   "outputs": [
    {
     "data": {
      "text/plain": [
       "260891.66666666666"
      ]
     },
     "execution_count": 21,
     "metadata": {},
     "output_type": "execute_result"
    }
   ],
   "source": [
    "# What is the variance of the money loaned?\n",
    "LoanVariance = df.LoanAmount.var()\n",
    "LoanVariance"
   ]
  },
  {
   "cell_type": "code",
   "execution_count": 22,
   "metadata": {},
   "outputs": [
    {
     "data": {
      "text/plain": [
       "810028.24"
      ]
     },
     "execution_count": 22,
     "metadata": {},
     "output_type": "execute_result"
    }
   ],
   "source": [
    "# What is the average number of days needed to fund a loan?\n",
    "AvgRaiseDays = df.TimeToRaise.mean()\n",
    "AvgRaiseDays"
   ]
  },
  {
   "cell_type": "code",
   "execution_count": 23,
   "metadata": {},
   "outputs": [
    {
     "data": {
      "text/plain": [
       "18.24"
      ]
     },
     "execution_count": 23,
     "metadata": {},
     "output_type": "execute_result"
    }
   ],
   "source": [
    "# Compute the average number of lenders per loan and store it in a variable average_lenders\n",
    "average_lenders = df.NumLendersTotal.mean()\n",
    "average_lenders"
   ]
  },
  {
   "cell_type": "code",
   "execution_count": 25,
   "metadata": {},
   "outputs": [
    {
     "data": {
      "text/plain": [
       "Philippines    7\n",
       "Kenya          3\n",
       "El Salvador    2\n",
       "Bolivia        2\n",
       "Paraguay       2\n",
       "Azerbaijan     1\n",
       "Nicaragua      1\n",
       "Guatemala      1\n",
       "Madagascar     1\n",
       "Georgia        1\n",
       "Uganda         1\n",
       "Tajikistan     1\n",
       "Jordan         1\n",
       "Ecuador        1\n",
       "Name: CountryName, dtype: int64"
      ]
     },
     "execution_count": 25,
     "metadata": {},
     "output_type": "execute_result"
    }
   ],
   "source": [
    "# For each unique country name, print a line that shows the name of the country and then the number of loans made in that country, like this: “Guatemala 1”\n",
    "\n",
    "country_count = df['CountryName'].value_counts()\n",
    "country_count"
   ]
  },
  {
   "cell_type": "code",
   "execution_count": 27,
   "metadata": {},
   "outputs": [
    {
     "data": {
      "text/plain": [
       "253.57142857142858"
      ]
     },
     "execution_count": 27,
     "metadata": {},
     "output_type": "execute_result"
    }
   ],
   "source": [
    "# What is the average amount of loans made to people in the Philippines?\n",
    "\n",
    "AvgPhLoan = df[df['CountryName'] == 'Philippines']['LoanAmount'].mean()\n",
    "AvgPhLoan\n"
   ]
  },
  {
   "cell_type": "code",
   "execution_count": 29,
   "metadata": {},
   "outputs": [
    {
     "data": {
      "text/plain": [
       "18    Kenya\n",
       "Name: CountryName, dtype: object"
      ]
     },
     "execution_count": 29,
     "metadata": {},
     "output_type": "execute_result"
    }
   ],
   "source": [
    "# In which country was the loan granted that took the longest to fund?\n",
    "LongestCountry = df[df['TimeToRaise'] == df.TimeToRaise.max()]['CountryName']\n",
    "LongestCountry"
   ]
  },
  {
   "cell_type": "code",
   "execution_count": 31,
   "metadata": {},
   "outputs": [
    {
     "name": "stdout",
     "output_type": "stream",
     "text": [
      "Average Time/Dollar: 1974.4240154914921\n"
     ]
    },
    {
     "data": {
      "text/html": [
       "<div>\n",
       "<style scoped>\n",
       "    .dataframe tbody tr th:only-of-type {\n",
       "        vertical-align: middle;\n",
       "    }\n",
       "\n",
       "    .dataframe tbody tr th {\n",
       "        vertical-align: top;\n",
       "    }\n",
       "\n",
       "    .dataframe thead th {\n",
       "        text-align: right;\n",
       "    }\n",
       "</style>\n",
       "<table border=\"1\" class=\"dataframe\">\n",
       "  <thead>\n",
       "    <tr style=\"text-align: right;\">\n",
       "      <th></th>\n",
       "      <th>LoanAmount</th>\n",
       "      <th>CountryName</th>\n",
       "      <th>TimeToRaise</th>\n",
       "      <th>NumLendersTotal</th>\n",
       "      <th>TimePerDollar</th>\n",
       "    </tr>\n",
       "  </thead>\n",
       "  <tbody>\n",
       "    <tr>\n",
       "      <th>0</th>\n",
       "      <td>1250.0</td>\n",
       "      <td>Azerbaijan</td>\n",
       "      <td>193075.0</td>\n",
       "      <td>38</td>\n",
       "      <td>154.460000</td>\n",
       "    </tr>\n",
       "    <tr>\n",
       "      <th>1</th>\n",
       "      <td>500.0</td>\n",
       "      <td>El Salvador</td>\n",
       "      <td>1157108.0</td>\n",
       "      <td>18</td>\n",
       "      <td>2314.216000</td>\n",
       "    </tr>\n",
       "    <tr>\n",
       "      <th>2</th>\n",
       "      <td>1450.0</td>\n",
       "      <td>Bolivia</td>\n",
       "      <td>1552939.0</td>\n",
       "      <td>51</td>\n",
       "      <td>1070.992414</td>\n",
       "    </tr>\n",
       "    <tr>\n",
       "      <th>3</th>\n",
       "      <td>200.0</td>\n",
       "      <td>Paraguay</td>\n",
       "      <td>244945.0</td>\n",
       "      <td>3</td>\n",
       "      <td>1224.725000</td>\n",
       "    </tr>\n",
       "    <tr>\n",
       "      <th>4</th>\n",
       "      <td>700.0</td>\n",
       "      <td>El Salvador</td>\n",
       "      <td>238797.0</td>\n",
       "      <td>21</td>\n",
       "      <td>341.138571</td>\n",
       "    </tr>\n",
       "  </tbody>\n",
       "</table>\n",
       "</div>"
      ],
      "text/plain": [
       "   LoanAmount  CountryName  TimeToRaise  NumLendersTotal  TimePerDollar\n",
       "0      1250.0   Azerbaijan     193075.0               38     154.460000\n",
       "1       500.0  El Salvador    1157108.0               18    2314.216000\n",
       "2      1450.0      Bolivia    1552939.0               51    1070.992414\n",
       "3       200.0     Paraguay     244945.0                3    1224.725000\n",
       "4       700.0  El Salvador     238797.0               21     341.138571"
      ]
     },
     "execution_count": 31,
     "metadata": {},
     "output_type": "execute_result"
    }
   ],
   "source": [
    "# What is the average amount of time / dollar it takes to fund a loan?\n",
    "\n",
    "df['TimePerDollar'] = df['TimeToRaise'] / df['LoanAmount']\n",
    "\n",
    "AvgTimePerDollar = df.TimePerDollar.mean()\n",
    "\n",
    "print(f'Average Time/Dollar: {AvgTimePerDollar}')\n",
    "df.head()"
   ]
  },
  {
   "cell_type": "code",
   "execution_count": 32,
   "metadata": {},
   "outputs": [
    {
     "data": {
      "text/plain": [
       "510.775554100494"
      ]
     },
     "execution_count": 32,
     "metadata": {},
     "output_type": "execute_result"
    }
   ],
   "source": [
    "# Calculate the standard deviation of the loan_amount variable and store the variance in loan_var and the standard deviation in loan_stdev\n",
    "\n",
    "LoanSTD = df.LoanAmount.std()\n",
    "LoanSTD"
   ]
  },
  {
   "cell_type": "code",
   "execution_count": 36,
   "metadata": {},
   "outputs": [
    {
     "name": "stdout",
     "output_type": "stream",
     "text": [
      "0.8030365843536594\n"
     ]
    },
    {
     "name": "stderr",
     "output_type": "stream",
     "text": [
      "C:\\Users\\prama\\AppData\\Local\\Temp\\ipykernel_15052\\965713873.py:5: FutureWarning: The default value of numeric_only in DataFrame.corr is deprecated. In a future version, it will default to False. Select only valid columns or specify the value of numeric_only to silence this warning.\n",
      "  df.corr()\n"
     ]
    },
    {
     "data": {
      "text/html": [
       "<div>\n",
       "<style scoped>\n",
       "    .dataframe tbody tr th:only-of-type {\n",
       "        vertical-align: middle;\n",
       "    }\n",
       "\n",
       "    .dataframe tbody tr th {\n",
       "        vertical-align: top;\n",
       "    }\n",
       "\n",
       "    .dataframe thead th {\n",
       "        text-align: right;\n",
       "    }\n",
       "</style>\n",
       "<table border=\"1\" class=\"dataframe\">\n",
       "  <thead>\n",
       "    <tr style=\"text-align: right;\">\n",
       "      <th></th>\n",
       "      <th>LoanAmount</th>\n",
       "      <th>TimeToRaise</th>\n",
       "      <th>NumLendersTotal</th>\n",
       "      <th>TimePerDollar</th>\n",
       "    </tr>\n",
       "  </thead>\n",
       "  <tbody>\n",
       "    <tr>\n",
       "      <th>LoanAmount</th>\n",
       "      <td>1.000000</td>\n",
       "      <td>0.189190</td>\n",
       "      <td>0.803037</td>\n",
       "      <td>-0.363752</td>\n",
       "    </tr>\n",
       "    <tr>\n",
       "      <th>TimeToRaise</th>\n",
       "      <td>0.189190</td>\n",
       "      <td>1.000000</td>\n",
       "      <td>0.242550</td>\n",
       "      <td>0.542181</td>\n",
       "    </tr>\n",
       "    <tr>\n",
       "      <th>NumLendersTotal</th>\n",
       "      <td>0.803037</td>\n",
       "      <td>0.242550</td>\n",
       "      <td>1.000000</td>\n",
       "      <td>-0.295559</td>\n",
       "    </tr>\n",
       "    <tr>\n",
       "      <th>TimePerDollar</th>\n",
       "      <td>-0.363752</td>\n",
       "      <td>0.542181</td>\n",
       "      <td>-0.295559</td>\n",
       "      <td>1.000000</td>\n",
       "    </tr>\n",
       "  </tbody>\n",
       "</table>\n",
       "</div>"
      ],
      "text/plain": [
       "                 LoanAmount  TimeToRaise  NumLendersTotal  TimePerDollar\n",
       "LoanAmount         1.000000     0.189190         0.803037      -0.363752\n",
       "TimeToRaise        0.189190     1.000000         0.242550       0.542181\n",
       "NumLendersTotal    0.803037     0.242550         1.000000      -0.295559\n",
       "TimePerDollar     -0.363752     0.542181        -0.295559       1.000000"
      ]
     },
     "execution_count": 36,
     "metadata": {},
     "output_type": "execute_result"
    }
   ],
   "source": [
    "# Calculate the pearson correlation between the loan_amount and the num_lenders_total or between time_to_raise and the loan_amount or between num_lenders_total and time_to_raise. If you divide up the class you can compare values to see which pair has the strongest correlation.\n",
    "\n",
    "\n",
    "print(df['LoanAmount'].corr(df['NumLendersTotal']))\n",
    "df.corr()"
   ]
  }
 ],
 "metadata": {
  "kernelspec": {
   "display_name": "Python 3",
   "language": "python",
   "name": "python3"
  },
  "language_info": {
   "codemirror_mode": {
    "name": "ipython",
    "version": 3
   },
   "file_extension": ".py",
   "mimetype": "text/x-python",
   "name": "python",
   "nbconvert_exporter": "python",
   "pygments_lexer": "ipython3",
   "version": "3.10.11"
  },
  "orig_nbformat": 4
 },
 "nbformat": 4,
 "nbformat_minor": 2
}
